{
 "cells": [
  {
   "attachments": {},
   "cell_type": "markdown",
   "metadata": {},
   "source": [
    "# Q 1\n",
    "Given two linked list of the same size, the task is to create a new linked list using those linked lists. The condition is that the greater node among both linked list will be added to the new linked list."
   ]
  },
  {
   "cell_type": "code",
   "execution_count": 2,
   "metadata": {},
   "outputs": [],
   "source": [
    "class ListNode:\n",
    "    def __init__(self, val=0, next=None):\n",
    "        self.val = val\n",
    "        self.next = next\n",
    "\n",
    "def createNewList(l1, l2):\n",
    "    dummy = ListNode(0)  # Dummy node for the new list\n",
    "    current = dummy\n",
    "\n",
    "    while l1 and l2:\n",
    "        if l1.val >= l2.val:\n",
    "            current.next = l1\n",
    "            l1 = l1.next\n",
    "        else:\n",
    "            current.next = l2\n",
    "            l2 = l2.next\n",
    "        current = current.next\n",
    "\n",
    "    # Add remaining nodes from l1 or l2 directly to the new list\n",
    "    if l1:\n",
    "        current.next = l1\n",
    "    if l2:\n",
    "        current.next = l2\n",
    "\n",
    "    return dummy.next\n"
   ]
  },
  {
   "attachments": {},
   "cell_type": "markdown",
   "metadata": {},
   "source": [
    "### Example 1"
   ]
  },
  {
   "cell_type": "code",
   "execution_count": 3,
   "metadata": {},
   "outputs": [
    {
     "name": "stdout",
     "output_type": "stream",
     "text": [
      "2 5 6 1 3 4 "
     ]
    }
   ],
   "source": [
    "# Create the first linked list: 1 -> 3 -> 4\n",
    "l1 = ListNode(1)\n",
    "l1.next = ListNode(3)\n",
    "l1.next.next = ListNode(4)\n",
    "\n",
    "# Create the second linked list: 2 -> 5 -> 6\n",
    "l2 = ListNode(2)\n",
    "l2.next = ListNode(5)\n",
    "l2.next.next = ListNode(6)\n",
    "\n",
    "# Create the new linked list using the two lists\n",
    "new_list = createNewList(l1, l2)\n",
    "\n",
    "# Print the new linked list\n",
    "current = new_list\n",
    "while current:\n",
    "    print(current.val, end=\" \")\n",
    "    current = current.next\n"
   ]
  },
  {
   "attachments": {},
   "cell_type": "markdown",
   "metadata": {},
   "source": [
    "# Q 2\n",
    "\n",
    "Write a function that takes a list sorted in non-decreasing order and deletes any duplicate nodes from the list. The list should only be traversed once.\n",
    "\n",
    "For example if the linked list is 11->11->11->21->43->43->60 then removeDuplicates() should convert the list to 11->21->43->60."
   ]
  },
  {
   "cell_type": "code",
   "execution_count": 4,
   "metadata": {},
   "outputs": [],
   "source": [
    "class ListNode:\n",
    "    def __init__(self, val=0, next=None):\n",
    "        self.val = val\n",
    "        self.next = next\n",
    "\n",
    "def removeDuplicates(head):\n",
    "    if not head:\n",
    "        return head\n",
    "\n",
    "    current = head\n",
    "    next_unique = head\n",
    "\n",
    "    while current.next:\n",
    "        if current.val == current.next.val:\n",
    "            current = current.next\n",
    "        else:\n",
    "            next_unique.next = current.next\n",
    "            next_unique = next_unique.next\n",
    "            current = current.next\n",
    "\n",
    "    next_unique.next = None  # Terminate the list after the last unique node\n",
    "\n",
    "    return head\n"
   ]
  },
  {
   "attachments": {},
   "cell_type": "markdown",
   "metadata": {},
   "source": [
    "### Example "
   ]
  },
  {
   "cell_type": "code",
   "execution_count": 5,
   "metadata": {},
   "outputs": [
    {
     "name": "stdout",
     "output_type": "stream",
     "text": [
      "11 21 43 60 "
     ]
    }
   ],
   "source": [
    "# Create the linked list: 11 -> 11 -> 11 -> 21 -> 43 -> 43 -> 60\n",
    "head = ListNode(11)\n",
    "head.next = ListNode(11)\n",
    "head.next.next = ListNode(11)\n",
    "head.next.next.next = ListNode(21)\n",
    "head.next.next.next.next = ListNode(43)\n",
    "head.next.next.next.next.next = ListNode(43)\n",
    "head.next.next.next.next.next.next = ListNode(60)\n",
    "\n",
    "# Remove duplicates from the linked list\n",
    "result_head = removeDuplicates(head)\n",
    "\n",
    "# Print the resulting linked list\n",
    "current = result_head\n",
    "while current:\n",
    "    print(current.val, end=\" \")\n",
    "    current = current.next\n"
   ]
  },
  {
   "attachments": {},
   "cell_type": "markdown",
   "metadata": {},
   "source": [
    "# Q 3\n",
    "Given a linked list of size **N**. The task is to reverse every **k** nodes (where k is an input to the function) in the linked list. If the number of nodes is not a multiple of *k* then left-out nodes, in the end, should be considered as a group and must be reversed (See Example 2 for clarification)."
   ]
  },
  {
   "cell_type": "code",
   "execution_count": 6,
   "metadata": {},
   "outputs": [],
   "source": [
    "class ListNode:\n",
    "    def __init__(self, val=0, next=None):\n",
    "        self.val = val\n",
    "        self.next = next\n",
    "\n",
    "def reverseKNodes(head, k):\n",
    "    current = head\n",
    "    next_node = None\n",
    "    count = 0\n",
    "\n",
    "    # Traverse k nodes to find the next_node\n",
    "    while current and count < k:\n",
    "        next_node = current.next\n",
    "        current = next_node\n",
    "        count += 1\n",
    "\n",
    "    # Reverse the first k nodes\n",
    "    if count == k:\n",
    "        next_node = reverseKNodes(next_node, k)\n",
    "\n",
    "        # Reverse the connections of the current k nodes\n",
    "        prev = None\n",
    "        current = head\n",
    "        while count > 0:\n",
    "            next_node = current.next\n",
    "            current.next = prev\n",
    "            prev = current\n",
    "            current = next_node\n",
    "            count -= 1\n",
    "\n",
    "        head.next = next_node\n",
    "        return prev\n",
    "\n",
    "    return head\n"
   ]
  },
  {
   "attachments": {},
   "cell_type": "markdown",
   "metadata": {},
   "source": [
    "### Example"
   ]
  },
  {
   "cell_type": "code",
   "execution_count": 7,
   "metadata": {},
   "outputs": [
    {
     "name": "stdout",
     "output_type": "stream",
     "text": [
      "4 2 2 1 5 "
     ]
    }
   ],
   "source": [
    "# Create the linked list: 1 -> 2 -> 2 -> 4 -> 5 -> 6 -> 7 -> 8\n",
    "head = ListNode(1)\n",
    "head.next = ListNode(2)\n",
    "head.next.next = ListNode(2)\n",
    "head.next.next.next = ListNode(4)\n",
    "head.next.next.next.next = ListNode(5)\n",
    "head.next.next.next.next.next = ListNode(6)\n",
    "head.next.next.next.next.next.next = ListNode(7)\n",
    "head.next.next.next.next.next.next.next = ListNode(8)\n",
    "\n",
    "# Reverse every 4 nodes in the linked list\n",
    "result_head = reverseKNodes(head, 4)\n",
    "\n",
    "# Print the resulting linked list\n",
    "current = result_head\n",
    "while current:\n",
    "    print(current.val, end=\" \")\n",
    "    current = current.next\n"
   ]
  },
  {
   "attachments": {},
   "cell_type": "markdown",
   "metadata": {},
   "source": [
    "# Q 4\n",
    "\n",
    "Given a linked list, write a function to reverse every alternate k nodes (where k is an input to the function) in an efficient way. Give the complexity of your algorithm."
   ]
  },
  {
   "cell_type": "code",
   "execution_count": 12,
   "metadata": {},
   "outputs": [],
   "source": [
    "class ListNode:\n",
    "    def __init__(self, val=0, next=None):\n",
    "        self.val = val\n",
    "        self.next = next\n",
    "\n",
    "def reverseAlternateKNodes(head, k):\n",
    "    current = head\n",
    "    prev = None\n",
    "    next_node = None\n",
    "    count = 0\n",
    "    reverse = True\n",
    "\n",
    "    # Reverse every alternate k nodes\n",
    "    while current and count < k:\n",
    "        next_node = current.next\n",
    "\n",
    "        if reverse:\n",
    "            current.next = prev\n",
    "            prev = current\n",
    "            current = next_node\n",
    "        else:\n",
    "            prev = current\n",
    "            current = next_node\n",
    "\n",
    "        count += 1\n",
    "\n",
    "    # Skip the next k nodes\n",
    "    if reverse:\n",
    "        head.next = reverseAlternateKNodes(current, k)\n",
    "    else:\n",
    "        temp = current\n",
    "        for _ in range(k):\n",
    "            if temp:\n",
    "                temp = temp.next\n",
    "\n",
    "        head.next = reverseAlternateKNodes(temp, k)\n",
    "\n",
    "    return prev\n"
   ]
  },
  {
   "attachments": {},
   "cell_type": "markdown",
   "metadata": {},
   "source": [
    "### Example"
   ]
  },
  {
   "cell_type": "code",
   "execution_count": 13,
   "metadata": {},
   "outputs": [
    {
     "ename": "RecursionError",
     "evalue": "maximum recursion depth exceeded",
     "output_type": "error",
     "traceback": [
      "\u001b[1;31m---------------------------------------------------------------------------\u001b[0m",
      "\u001b[1;31mRecursionError\u001b[0m                            Traceback (most recent call last)",
      "\u001b[1;32m<ipython-input-13-0ceceb9555f3>\u001b[0m in \u001b[0;36m<module>\u001b[1;34m\u001b[0m\n\u001b[0;32m     11\u001b[0m \u001b[1;33m\u001b[0m\u001b[0m\n\u001b[0;32m     12\u001b[0m \u001b[1;31m# Reverse every alternate 3 nodes in the linked list\u001b[0m\u001b[1;33m\u001b[0m\u001b[1;33m\u001b[0m\u001b[1;33m\u001b[0m\u001b[0m\n\u001b[1;32m---> 13\u001b[1;33m \u001b[0mresult_head\u001b[0m \u001b[1;33m=\u001b[0m \u001b[0mreverseAlternateKNodes\u001b[0m\u001b[1;33m(\u001b[0m\u001b[0mhead\u001b[0m\u001b[1;33m,\u001b[0m \u001b[1;36m3\u001b[0m\u001b[1;33m)\u001b[0m\u001b[1;33m\u001b[0m\u001b[1;33m\u001b[0m\u001b[0m\n\u001b[0m\u001b[0;32m     14\u001b[0m \u001b[1;33m\u001b[0m\u001b[0m\n\u001b[0;32m     15\u001b[0m \u001b[1;31m# Print the resulting linked list\u001b[0m\u001b[1;33m\u001b[0m\u001b[1;33m\u001b[0m\u001b[1;33m\u001b[0m\u001b[0m\n",
      "\u001b[1;32m<ipython-input-12-18e444b708ce>\u001b[0m in \u001b[0;36mreverseAlternateKNodes\u001b[1;34m(head, k)\u001b[0m\n\u001b[0;32m     27\u001b[0m     \u001b[1;31m# Skip the next k nodes\u001b[0m\u001b[1;33m\u001b[0m\u001b[1;33m\u001b[0m\u001b[1;33m\u001b[0m\u001b[0m\n\u001b[0;32m     28\u001b[0m     \u001b[1;32mif\u001b[0m \u001b[0mreverse\u001b[0m\u001b[1;33m:\u001b[0m\u001b[1;33m\u001b[0m\u001b[1;33m\u001b[0m\u001b[0m\n\u001b[1;32m---> 29\u001b[1;33m         \u001b[0mhead\u001b[0m\u001b[1;33m.\u001b[0m\u001b[0mnext\u001b[0m \u001b[1;33m=\u001b[0m \u001b[0mreverseAlternateKNodes\u001b[0m\u001b[1;33m(\u001b[0m\u001b[0mcurrent\u001b[0m\u001b[1;33m,\u001b[0m \u001b[0mk\u001b[0m\u001b[1;33m)\u001b[0m\u001b[1;33m\u001b[0m\u001b[1;33m\u001b[0m\u001b[0m\n\u001b[0m\u001b[0;32m     30\u001b[0m     \u001b[1;32melse\u001b[0m\u001b[1;33m:\u001b[0m\u001b[1;33m\u001b[0m\u001b[1;33m\u001b[0m\u001b[0m\n\u001b[0;32m     31\u001b[0m         \u001b[0mtemp\u001b[0m \u001b[1;33m=\u001b[0m \u001b[0mcurrent\u001b[0m\u001b[1;33m\u001b[0m\u001b[1;33m\u001b[0m\u001b[0m\n",
      "... last 1 frames repeated, from the frame below ...\n",
      "\u001b[1;32m<ipython-input-12-18e444b708ce>\u001b[0m in \u001b[0;36mreverseAlternateKNodes\u001b[1;34m(head, k)\u001b[0m\n\u001b[0;32m     27\u001b[0m     \u001b[1;31m# Skip the next k nodes\u001b[0m\u001b[1;33m\u001b[0m\u001b[1;33m\u001b[0m\u001b[1;33m\u001b[0m\u001b[0m\n\u001b[0;32m     28\u001b[0m     \u001b[1;32mif\u001b[0m \u001b[0mreverse\u001b[0m\u001b[1;33m:\u001b[0m\u001b[1;33m\u001b[0m\u001b[1;33m\u001b[0m\u001b[0m\n\u001b[1;32m---> 29\u001b[1;33m         \u001b[0mhead\u001b[0m\u001b[1;33m.\u001b[0m\u001b[0mnext\u001b[0m \u001b[1;33m=\u001b[0m \u001b[0mreverseAlternateKNodes\u001b[0m\u001b[1;33m(\u001b[0m\u001b[0mcurrent\u001b[0m\u001b[1;33m,\u001b[0m \u001b[0mk\u001b[0m\u001b[1;33m)\u001b[0m\u001b[1;33m\u001b[0m\u001b[1;33m\u001b[0m\u001b[0m\n\u001b[0m\u001b[0;32m     30\u001b[0m     \u001b[1;32melse\u001b[0m\u001b[1;33m:\u001b[0m\u001b[1;33m\u001b[0m\u001b[1;33m\u001b[0m\u001b[0m\n\u001b[0;32m     31\u001b[0m         \u001b[0mtemp\u001b[0m \u001b[1;33m=\u001b[0m \u001b[0mcurrent\u001b[0m\u001b[1;33m\u001b[0m\u001b[1;33m\u001b[0m\u001b[0m\n",
      "\u001b[1;31mRecursionError\u001b[0m: maximum recursion depth exceeded"
     ]
    }
   ],
   "source": [
    "# Create the linked list: 1 -> 2 -> 3 -> 4 -> 5 -> 6 -> 7 -> 8 -> 9\n",
    "head = ListNode(1)\n",
    "head.next = ListNode(2)\n",
    "head.next.next = ListNode(3)\n",
    "head.next.next.next = ListNode(4)\n",
    "head.next.next.next.next = ListNode(5)\n",
    "head.next.next.next.next.next = ListNode(6)\n",
    "head.next.next.next.next.next.next = ListNode(7)\n",
    "head.next.next.next.next.next.next.next = ListNode(8)\n",
    "head.next.next.next.next.next.next.next.next = ListNode(9)\n",
    "\n",
    "# Reverse every alternate 3 nodes in the linked list\n",
    "result_head = reverseAlternateKNodes(head, 3)\n",
    "\n",
    "# Print the resulting linked list\n",
    "current = result_head\n",
    "while current:\n",
    "    print(current.val, end=\" \")\n",
    "    current = current.next\n"
   ]
  },
  {
   "attachments": {},
   "cell_type": "markdown",
   "metadata": {},
   "source": [
    "# Q 5\n",
    "Given a linked list and a key to be deleted. Delete last occurrence of key from linked. The list may have duplicates."
   ]
  },
  {
   "cell_type": "code",
   "execution_count": 14,
   "metadata": {},
   "outputs": [],
   "source": [
    "class ListNode:\n",
    "    def __init__(self, val=0, next=None):\n",
    "        self.val = val\n",
    "        self.next = next\n",
    "\n",
    "def deleteLastOccurrence(head, key):\n",
    "    if not head:\n",
    "        return None\n",
    "\n",
    "    prev = None\n",
    "    lastMatch = None\n",
    "    current = head\n",
    "\n",
    "    while current:\n",
    "        if current.val == key:\n",
    "            lastMatch = prev\n",
    "\n",
    "        prev = current\n",
    "        current = current.next\n",
    "\n",
    "    if lastMatch is None:\n",
    "        return head\n",
    "\n",
    "    if lastMatch == head:\n",
    "        head = head.next\n",
    "    else:\n",
    "        lastMatch.next = lastMatch.next.next\n",
    "\n",
    "    return head\n"
   ]
  },
  {
   "attachments": {},
   "cell_type": "markdown",
   "metadata": {},
   "source": [
    "### Example"
   ]
  },
  {
   "cell_type": "code",
   "execution_count": 15,
   "metadata": {},
   "outputs": [
    {
     "name": "stdout",
     "output_type": "stream",
     "text": [
      "1 2 3 5 10 "
     ]
    }
   ],
   "source": [
    "# Create the linked list: 1 -> 2 -> 3 -> 5 -> 2 -> 10\n",
    "head = ListNode(1)\n",
    "head.next = ListNode(2)\n",
    "head.next.next = ListNode(3)\n",
    "head.next.next.next = ListNode(5)\n",
    "head.next.next.next.next = ListNode(2)\n",
    "head.next.next.next.next.next = ListNode(10)\n",
    "\n",
    "key = 2\n",
    "\n",
    "# Delete the last occurrence of key from the linked list\n",
    "result_head = deleteLastOccurrence(head, key)\n",
    "\n",
    "# Print the resulting linked list\n",
    "current = result_head\n",
    "while current:\n",
    "    print(current.val, end=\" \")\n",
    "    current = current.next\n"
   ]
  },
  {
   "attachments": {},
   "cell_type": "markdown",
   "metadata": {},
   "source": [
    "# Q 6\n",
    "\n",
    "Given two sorted linked lists consisting of **N** and **M** nodes respectively. The task is to merge both of the lists (in place) and return the head of the merged list.\n"
   ]
  },
  {
   "cell_type": "code",
   "execution_count": 16,
   "metadata": {},
   "outputs": [],
   "source": [
    "class ListNode:\n",
    "    def __init__(self, val=0, next=None):\n",
    "        self.val = val\n",
    "        self.next = next\n",
    "\n",
    "def mergeTwoLists(list1, list2):\n",
    "    dummy = ListNode(0)\n",
    "    prev = dummy\n",
    "\n",
    "    while list1 and list2:\n",
    "        if list1.val <= list2.val:\n",
    "            prev.next = list1\n",
    "            list1 = list1.next\n",
    "        else:\n",
    "            prev.next = list2\n",
    "            list2 = list2.next\n",
    "        prev = prev.next\n",
    "\n",
    "    # Append remaining nodes of list1, if any\n",
    "    if list1:\n",
    "        prev.next = list1\n",
    "\n",
    "    # Append remaining nodes of list2, if any\n",
    "    if list2:\n",
    "        prev.next = list2\n",
    "\n",
    "    return dummy.next\n"
   ]
  },
  {
   "attachments": {},
   "cell_type": "markdown",
   "metadata": {},
   "source": [
    "### Example"
   ]
  },
  {
   "cell_type": "code",
   "execution_count": 17,
   "metadata": {},
   "outputs": [
    {
     "name": "stdout",
     "output_type": "stream",
     "text": [
      "2 3 5 10 15 20 "
     ]
    }
   ],
   "source": [
    "# Create the first sorted linked list: 5 -> 10 -> 15\n",
    "a = ListNode(5)\n",
    "a.next = ListNode(10)\n",
    "a.next.next = ListNode(15)\n",
    "\n",
    "# Create the second sorted linked list: 2 -> 3 -> 20\n",
    "b = ListNode(2)\n",
    "b.next = ListNode(3)\n",
    "b.next.next = ListNode(20)\n",
    "\n",
    "# Merge the two lists\n",
    "merged_head = mergeTwoLists(a, b)\n",
    "\n",
    "# Print the resulting merged list\n",
    "current = merged_head\n",
    "while current:\n",
    "    print(current.val, end=\" \")\n",
    "    current = current.next\n"
   ]
  },
  {
   "attachments": {},
   "cell_type": "markdown",
   "metadata": {},
   "source": [
    "# Q 7\n",
    "\n",
    "Given a **Doubly Linked List**, the task is to reverse the given Doubly Linked List.\n"
   ]
  },
  {
   "cell_type": "code",
   "execution_count": 18,
   "metadata": {},
   "outputs": [],
   "source": [
    "class ListNode:\n",
    "    def __init__(self, val=0, prev=None, next=None):\n",
    "        self.val = val\n",
    "        self.prev = prev\n",
    "        self.next = next\n",
    "\n",
    "def reverseLinkedList(head):\n",
    "    current = head\n",
    "    prev = None\n",
    "\n",
    "    while current:\n",
    "        next_node = current.next\n",
    "        current.next = prev\n",
    "        current.prev = next_node\n",
    "        prev = current\n",
    "        current = next_node\n",
    "\n",
    "    head = prev\n",
    "    return head\n"
   ]
  },
  {
   "attachments": {},
   "cell_type": "markdown",
   "metadata": {},
   "source": [
    "### Example"
   ]
  },
  {
   "cell_type": "code",
   "execution_count": 19,
   "metadata": {},
   "outputs": [
    {
     "name": "stdout",
     "output_type": "stream",
     "text": [
      "2 4 8 10 "
     ]
    }
   ],
   "source": [
    "# Create the doubly linked list: 10 <-> 8 <-> 4 <-> 2\n",
    "head = ListNode(10)\n",
    "node1 = ListNode(8)\n",
    "node2 = ListNode(4)\n",
    "node3 = ListNode(2)\n",
    "\n",
    "head.next = node1\n",
    "node1.prev = head\n",
    "node1.next = node2\n",
    "node2.prev = node1\n",
    "node2.next = node3\n",
    "node3.prev = node2\n",
    "\n",
    "# Reverse the doubly linked list\n",
    "reversed_head = reverseLinkedList(head)\n",
    "\n",
    "# Print the reversed linked list\n",
    "current = reversed_head\n",
    "while current:\n",
    "    print(current.val, end=\" \")\n",
    "    current = current.next\n"
   ]
  },
  {
   "attachments": {},
   "cell_type": "markdown",
   "metadata": {},
   "source": [
    "# Q 8\n",
    "Given a doubly linked list and a position. The task is to delete a node from given position in a doubly linked list."
   ]
  },
  {
   "cell_type": "code",
   "execution_count": 20,
   "metadata": {},
   "outputs": [],
   "source": [
    "class ListNode:\n",
    "    def __init__(self, val=0, prev=None, next=None):\n",
    "        self.val = val\n",
    "        self.prev = prev\n",
    "        self.next = next\n",
    "\n",
    "def deleteNode(head, position):\n",
    "    if position == 1:\n",
    "        if head:\n",
    "            head = head.next\n",
    "            head.prev = None\n",
    "        return head\n",
    "\n",
    "    current = head\n",
    "    prev = None\n",
    "    count = 1\n",
    "\n",
    "    while current and count < position:\n",
    "        prev = current\n",
    "        current = current.next\n",
    "        count += 1\n",
    "\n",
    "    if current:\n",
    "        prev.next = current.next\n",
    "\n",
    "        if current.next:\n",
    "            current.next.prev = prev\n",
    "\n",
    "    return head\n"
   ]
  },
  {
   "attachments": {},
   "cell_type": "markdown",
   "metadata": {},
   "source": [
    "### Example"
   ]
  },
  {
   "cell_type": "code",
   "execution_count": 21,
   "metadata": {},
   "outputs": [
    {
     "name": "stdout",
     "output_type": "stream",
     "text": [
      "1 3 5 2 9 "
     ]
    }
   ],
   "source": [
    "# Example 1\n",
    "# Create the doubly linked list: 1 <-> 3 <-> 4\n",
    "head = ListNode(1)\n",
    "node1 = ListNode(3)\n",
    "node2 = ListNode(4)\n",
    "\n",
    "head.next = node1\n",
    "node1.prev = head\n",
    "node1.next = node2\n",
    "node2.prev = node1\n",
    "\n",
    "# Delete the node at position 3\n",
    "new_head = deleteNode(head, 3)\n",
    "\n",
    "# Print the resulting linked list\n",
    "current = new_head\n",
    "while current:\n",
    "    print(current.val, end=\" \")\n",
    "    current = current.next\n",
    "\n",
    "# Output: 1 3\n",
    "\n",
    "# Example 2\n",
    "# Create the doubly linked list: 1 <-> 5 <-> 2 <-> 9\n",
    "head = ListNode(1)\n",
    "node1 = ListNode(5)\n",
    "node2 = ListNode(2)\n",
    "node3 = ListNode(9)\n",
    "\n",
    "head.next = node1\n",
    "node1.prev = head\n",
    "node1.next = node2\n",
    "node2.prev = node1\n",
    "node2.next = node3\n",
    "node3.prev = node2\n",
    "\n",
    "# Delete the node at position 1\n",
    "new_head = deleteNode(head, 1)\n",
    "\n",
    "# Print the resulting linked list\n",
    "current = new_head\n",
    "while current:\n",
    "    print(current.val, end=\" \")\n",
    "    current = current.next\n",
    "\n",
    "# Output: 5 2 9\n"
   ]
  },
  {
   "cell_type": "code",
   "execution_count": null,
   "metadata": {},
   "outputs": [],
   "source": []
  }
 ],
 "metadata": {
  "kernelspec": {
   "display_name": "base",
   "language": "python",
   "name": "python3"
  },
  "language_info": {
   "codemirror_mode": {
    "name": "ipython",
    "version": 3
   },
   "file_extension": ".py",
   "mimetype": "text/x-python",
   "name": "python",
   "nbconvert_exporter": "python",
   "pygments_lexer": "ipython3",
   "version": "3.8.5"
  },
  "orig_nbformat": 4
 },
 "nbformat": 4,
 "nbformat_minor": 2
}
