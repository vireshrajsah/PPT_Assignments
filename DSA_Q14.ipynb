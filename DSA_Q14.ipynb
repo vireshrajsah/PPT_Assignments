{
 "cells": [
  {
   "attachments": {},
   "cell_type": "markdown",
   "metadata": {},
   "source": [
    "# Q 14\n",
    "Given a linked list of **N** nodes such that it may contain a loop.\n",
    "\n",
    "A loop here means that the last node of the link list is connected to the node at position X(1-based index). If the link list does not have any loop, X=0.\n",
    "\n",
    "Remove the loop from the linked list, if it is present, i.e. unlink the last node which is forming the loop."
   ]
  },
  {
   "attachments": {},
   "cell_type": "markdown",
   "metadata": {},
   "source": [
    "# Code"
   ]
  },
  {
   "cell_type": "code",
   "execution_count": 1,
   "metadata": {},
   "outputs": [],
   "source": [
    "class Node:\n",
    "    def __init__(self, data):\n",
    "        self.data = data\n",
    "        self.next = None\n",
    "\n",
    "def detectAndRemoveLoop(head):\n",
    "    if head is None or head.next is None:\n",
    "        return head\n",
    "\n",
    "    slowPtr = head\n",
    "    fastPtr = head\n",
    "    loopExists = False\n",
    "\n",
    "    # Detect loop using Floyd's cycle-finding algorithm\n",
    "    while fastPtr.next and fastPtr.next.next:\n",
    "        slowPtr = slowPtr.next\n",
    "        fastPtr = fastPtr.next.next\n",
    "        if slowPtr == fastPtr:\n",
    "            loopExists = True\n",
    "            break\n",
    "\n",
    "    # If loop exists, find the start of the loop\n",
    "    if loopExists:\n",
    "        slowPtr = head\n",
    "        while slowPtr != fastPtr:\n",
    "            slowPtr = slowPtr.next\n",
    "            fastPtr = fastPtr.next\n",
    "\n",
    "        # Remove the loop by setting the next pointer of the last node to None\n",
    "        temp = fastPtr\n",
    "        while temp.next != fastPtr:\n",
    "            temp = temp.next\n",
    "        temp.next = None\n",
    "\n",
    "    return head\n"
   ]
  },
  {
   "attachments": {},
   "cell_type": "markdown",
   "metadata": {},
   "source": [
    "# Example 1"
   ]
  },
  {
   "cell_type": "code",
   "execution_count": 2,
   "metadata": {},
   "outputs": [
    {
     "name": "stdout",
     "output_type": "stream",
     "text": [
      "1 3 4 "
     ]
    }
   ],
   "source": [
    "# Create the linked list\n",
    "head = Node(1)\n",
    "head.next = Node(3)\n",
    "head.next.next = Node(4)\n",
    "head.next.next.next = head.next  # Creating a loop\n",
    "\n",
    "# Call the function to remove the loop\n",
    "head = detectAndRemoveLoop(head)\n",
    "\n",
    "# Print the updated linked list\n",
    "temp = head\n",
    "while temp:\n",
    "    print(temp.data, end=\" \")\n",
    "    temp = temp.next\n"
   ]
  },
  {
   "attachments": {},
   "cell_type": "markdown",
   "metadata": {},
   "source": [
    "# Example 2"
   ]
  },
  {
   "cell_type": "code",
   "execution_count": 3,
   "metadata": {},
   "outputs": [
    {
     "name": "stdout",
     "output_type": "stream",
     "text": [
      "1 2 3 4 "
     ]
    }
   ],
   "source": [
    "# Create the linked list\n",
    "head = Node(1)\n",
    "head.next = Node(2)\n",
    "head.next.next = Node(3)\n",
    "head.next.next.next = Node(4)\n",
    "\n",
    "# Call the function to remove the loop\n",
    "head = detectAndRemoveLoop(head)\n",
    "\n",
    "# Print the updated linked list\n",
    "temp = head\n",
    "while temp:\n",
    "    print(temp.data, end=\" \")\n",
    "    temp = temp.next\n"
   ]
  }
 ],
 "metadata": {
  "kernelspec": {
   "display_name": "base",
   "language": "python",
   "name": "python3"
  },
  "language_info": {
   "codemirror_mode": {
    "name": "ipython",
    "version": 3
   },
   "file_extension": ".py",
   "mimetype": "text/x-python",
   "name": "python",
   "nbconvert_exporter": "python",
   "pygments_lexer": "ipython3",
   "version": "3.8.5"
  },
  "orig_nbformat": 4
 },
 "nbformat": 4,
 "nbformat_minor": 2
}
