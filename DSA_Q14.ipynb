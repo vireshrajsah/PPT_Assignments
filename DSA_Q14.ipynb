{
 "cells": [
  {
   "attachments": {},
   "cell_type": "markdown",
   "metadata": {},
   "source": [
    "# Q 1\n",
    "Given a linked list of **N** nodes such that it may contain a loop.\n",
    "\n",
    "A loop here means that the last node of the link list is connected to the node at position X(1-based index). If the link list does not have any loop, X=0.\n",
    "\n",
    "Remove the loop from the linked list, if it is present, i.e. unlink the last node which is forming the loop."
   ]
  },
  {
   "attachments": {},
   "cell_type": "markdown",
   "metadata": {},
   "source": [
    "### Code"
   ]
  },
  {
   "cell_type": "code",
   "execution_count": 1,
   "metadata": {},
   "outputs": [],
   "source": [
    "class Node:\n",
    "    def __init__(self, data):\n",
    "        self.data = data\n",
    "        self.next = None\n",
    "\n",
    "def detectAndRemoveLoop(head):\n",
    "    if head is None or head.next is None:\n",
    "        return head\n",
    "\n",
    "    slowPtr = head\n",
    "    fastPtr = head\n",
    "    loopExists = False\n",
    "\n",
    "    # Detect loop using Floyd's cycle-finding algorithm\n",
    "    while fastPtr.next and fastPtr.next.next:\n",
    "        slowPtr = slowPtr.next\n",
    "        fastPtr = fastPtr.next.next\n",
    "        if slowPtr == fastPtr:\n",
    "            loopExists = True\n",
    "            break\n",
    "\n",
    "    # If loop exists, find the start of the loop\n",
    "    if loopExists:\n",
    "        slowPtr = head\n",
    "        while slowPtr != fastPtr:\n",
    "            slowPtr = slowPtr.next\n",
    "            fastPtr = fastPtr.next\n",
    "\n",
    "        # Remove the loop by setting the next pointer of the last node to None\n",
    "        temp = fastPtr\n",
    "        while temp.next != fastPtr:\n",
    "            temp = temp.next\n",
    "        temp.next = None\n",
    "\n",
    "    return head\n"
   ]
  },
  {
   "attachments": {},
   "cell_type": "markdown",
   "metadata": {},
   "source": [
    "### Example 1"
   ]
  },
  {
   "cell_type": "code",
   "execution_count": 2,
   "metadata": {},
   "outputs": [
    {
     "name": "stdout",
     "output_type": "stream",
     "text": [
      "1 3 4 "
     ]
    }
   ],
   "source": [
    "# Create the linked list\n",
    "head = Node(1)\n",
    "head.next = Node(3)\n",
    "head.next.next = Node(4)\n",
    "head.next.next.next = head.next  # Creating a loop\n",
    "\n",
    "# Call the function to remove the loop\n",
    "head = detectAndRemoveLoop(head)\n",
    "\n",
    "# Print the updated linked list\n",
    "temp = head\n",
    "while temp:\n",
    "    print(temp.data, end=\" \")\n",
    "    temp = temp.next\n"
   ]
  },
  {
   "attachments": {},
   "cell_type": "markdown",
   "metadata": {},
   "source": [
    "### Example 2"
   ]
  },
  {
   "cell_type": "code",
   "execution_count": 3,
   "metadata": {},
   "outputs": [
    {
     "name": "stdout",
     "output_type": "stream",
     "text": [
      "1 2 3 4 "
     ]
    }
   ],
   "source": [
    "# Create the linked list\n",
    "head = Node(1)\n",
    "head.next = Node(2)\n",
    "head.next.next = Node(3)\n",
    "head.next.next.next = Node(4)\n",
    "\n",
    "# Call the function to remove the loop\n",
    "head = detectAndRemoveLoop(head)\n",
    "\n",
    "# Print the updated linked list\n",
    "temp = head\n",
    "while temp:\n",
    "    print(temp.data, end=\" \")\n",
    "    temp = temp.next\n"
   ]
  },
  {
   "attachments": {},
   "cell_type": "markdown",
   "metadata": {},
   "source": [
    "# Q 2\n",
    "A number **N** is represented in Linked List such that each digit corresponds to a node in linked list. You need to add 1 to it."
   ]
  },
  {
   "cell_type": "markdown",
   "metadata": {},
   "source": [
    "## Code"
   ]
  },
  {
   "cell_type": "code",
   "execution_count": 4,
   "metadata": {},
   "outputs": [],
   "source": [
    "class Node:\n",
    "    def __init__(self, data):\n",
    "        self.data = data\n",
    "        self.next = None\n",
    "\n",
    "def addOne(head):\n",
    "    # Reverse the linked list\n",
    "    prev = None\n",
    "    current = head\n",
    "    while current:\n",
    "        next_node = current.next\n",
    "        current.next = prev\n",
    "        prev = current\n",
    "        current = next_node\n",
    "    head = prev\n",
    "\n",
    "    # Traverse the reversed linked list and add 1\n",
    "    carry = 1\n",
    "    temp = head\n",
    "    while temp:\n",
    "        temp_sum = temp.data + carry\n",
    "        temp.data = temp_sum % 10\n",
    "        carry = temp_sum // 10\n",
    "        temp = temp.next\n",
    "\n",
    "    # If carry is still 1, append a new node\n",
    "    if carry == 1:\n",
    "        new_node = Node(1)\n",
    "        new_node.next = head\n",
    "        head = new_node\n",
    "\n",
    "    # Reverse the linked list again\n",
    "    prev = None\n",
    "    current = head\n",
    "    while current:\n",
    "        next_node = current.next\n",
    "        current.next = prev\n",
    "        prev = current\n",
    "        current = next_node\n",
    "    head = prev\n",
    "\n",
    "    return head\n"
   ]
  },
  {
   "attachments": {},
   "cell_type": "markdown",
   "metadata": {},
   "source": [
    "### Example 1"
   ]
  },
  {
   "cell_type": "code",
   "execution_count": 5,
   "metadata": {},
   "outputs": [
    {
     "name": "stdout",
     "output_type": "stream",
     "text": [
      "457"
     ]
    }
   ],
   "source": [
    "# Create the linked list\n",
    "head = Node(4)\n",
    "head.next = Node(5)\n",
    "head.next.next = Node(6)\n",
    "\n",
    "# Call the function to add 1\n",
    "head = addOne(head)\n",
    "\n",
    "# Print the updated linked list\n",
    "temp = head\n",
    "while temp:\n",
    "    print(temp.data, end=\"\")\n",
    "    temp = temp.next\n"
   ]
  },
  {
   "attachments": {},
   "cell_type": "markdown",
   "metadata": {},
   "source": [
    "### Example 2"
   ]
  },
  {
   "cell_type": "code",
   "execution_count": 6,
   "metadata": {},
   "outputs": [
    {
     "name": "stdout",
     "output_type": "stream",
     "text": [
      "0001"
     ]
    }
   ],
   "source": [
    "# Create the linked list\n",
    "head = Node(9)\n",
    "head.next = Node(9)\n",
    "head.next.next = Node(9)\n",
    "\n",
    "# Call the function to add 1\n",
    "head = addOne(head)\n",
    "\n",
    "# Print the updated linked list\n",
    "temp = head\n",
    "while temp:\n",
    "    print(temp.data, end=\"\")\n",
    "    temp = temp.next\n"
   ]
  },
  {
   "attachments": {},
   "cell_type": "markdown",
   "metadata": {},
   "source": [
    "# Q 3\n",
    "Given a Linked List of size N, where every node represents a sub-linked-list and contains two pointers:(i) a **next** pointer to the next node,(ii) a **bottom** pointer to a linked list where this node is head.Each of the sub-linked-list is in sorted order.Flatten the Link List such that all the nodes appear in a single level while maintaining the sorted order. \n",
    "\n",
    "*Note:* The flattened list will be printed using the bottom pointer instead of next pointer."
   ]
  },
  {
   "attachments": {},
   "cell_type": "markdown",
   "metadata": {},
   "source": [
    "## Code"
   ]
  },
  {
   "cell_type": "code",
   "execution_count": 7,
   "metadata": {},
   "outputs": [],
   "source": [
    "class Node:\n",
    "    def __init__(self, data):\n",
    "        self.data = data\n",
    "        self.next = None\n",
    "        self.bottom = None\n",
    "\n",
    "def mergeLists(a, b):\n",
    "    if a is None:\n",
    "        return b\n",
    "    if b is None:\n",
    "        return a\n",
    "\n",
    "    result = None\n",
    "\n",
    "    if a.data <= b.data:\n",
    "        result = a\n",
    "        result.bottom = mergeLists(a.bottom, b)\n",
    "    else:\n",
    "        result = b\n",
    "        result.bottom = mergeLists(a, b.bottom)\n",
    "\n",
    "    return result\n",
    "\n",
    "def flatten(head):\n",
    "    if head is None or head.next is None:\n",
    "        return head\n",
    "\n",
    "    # Recursively flatten the rest of the linked list\n",
    "    head.next = flatten(head.next)\n",
    "\n",
    "    # Merge the current node with the flattened list\n",
    "    head = mergeLists(head, head.next)\n",
    "\n",
    "    return head\n"
   ]
  },
  {
   "attachments": {},
   "cell_type": "markdown",
   "metadata": {},
   "source": [
    "### Example 1"
   ]
  },
  {
   "cell_type": "code",
   "execution_count": 8,
   "metadata": {},
   "outputs": [
    {
     "name": "stdout",
     "output_type": "stream",
     "text": [
      "5-> 7-> 8-> 10-> 19-> 20-> 22-> 28-> 30-> 35-> 40-> "
     ]
    }
   ],
   "source": [
    "# Create the linked list\n",
    "head = Node(5)\n",
    "head.next = Node(10)\n",
    "head.next.next = Node(19)\n",
    "head.next.next.next = Node(28)\n",
    "\n",
    "head.bottom = Node(7)\n",
    "head.bottom.bottom = Node(8)\n",
    "head.bottom.bottom.bottom = Node(30)\n",
    "\n",
    "head.next.bottom = Node(20)\n",
    "\n",
    "head.next.next.bottom = Node(22)\n",
    "\n",
    "head.next.next.next.bottom = Node(35)\n",
    "head.next.next.next.bottom.bottom = Node(40)\n",
    "\n",
    "# Call the function to flatten the linked list\n",
    "head = flatten(head)\n",
    "\n",
    "# Print the flattened linked list\n",
    "temp = head\n",
    "while temp:\n",
    "    print(temp.data, end=\"-> \")\n",
    "    temp = temp.bottom\n"
   ]
  },
  {
   "attachments": {},
   "cell_type": "markdown",
   "metadata": {},
   "source": [
    "# Q 4\n",
    "You are given a special linked list with **N** nodes where each node has a next pointer pointing to its next node. You are also given **M** random pointers, where you will be given **M** number of pairs denoting two nodes **a** and **b**  **i.e. a->arb = b** (arb is pointer to random node)**.**\n",
    "\n",
    "Construct a copy of the given list. The copy should consist of exactly **N** new nodes, where each new node has its value set to the value of its corresponding original node. Both the next and random pointer of the new nodes should point to new nodes in the copied list such that the pointers in the original list and copied list represent the same list state. None of the pointers in the new list should point to nodes in the original list.\n",
    "\n",
    "For example, if there are two nodes **X** and **Y** in the original list, where **X.arb** **-->** **Y**, then for the corresponding two nodes **x** and **y** in the copied list, **x.arb --> y.**\n",
    "\n",
    "Return the head of the copied linked list."
   ]
  },
  {
   "cell_type": "code",
   "execution_count": 9,
   "metadata": {},
   "outputs": [],
   "source": [
    "class Node:\n",
    "    def __init__(self, data):\n",
    "        self.data = data\n",
    "        self.next = None\n",
    "        self.random = None\n",
    "\n",
    "def copyRandomList(head):\n",
    "    if head is None:\n",
    "        return None\n",
    "\n",
    "    # Step 1: Create new nodes and insert them between original nodes\n",
    "    current = head\n",
    "    while current:\n",
    "        new_node = Node(current.data)\n",
    "        new_node.next = current.next\n",
    "        current.next = new_node\n",
    "        current = new_node.next\n",
    "\n",
    "    # Step 2: Set random pointers of new nodes\n",
    "    current = head\n",
    "    while current:\n",
    "        if current.random:\n",
    "            current.next.random = current.random.next\n",
    "        current = current.next.next\n",
    "\n",
    "    # Step 3: Separate the new list from the original list\n",
    "    new_head = head.next\n",
    "    current = head\n",
    "    new_current = new_head\n",
    "    while current:\n",
    "        current.next = current.next.next\n",
    "        if new_current.next:\n",
    "            new_current.next = new_current.next.next\n",
    "        current = current.next\n",
    "        new_current = new_current.next\n",
    "\n",
    "    return new_head\n"
   ]
  },
  {
   "attachments": {},
   "cell_type": "markdown",
   "metadata": {},
   "source": [
    "### Example 1"
   ]
  },
  {
   "cell_type": "code",
   "execution_count": 10,
   "metadata": {},
   "outputs": [
    {
     "name": "stdout",
     "output_type": "stream",
     "text": [
      "Node: 1\n",
      "Random Pointer: 3\n",
      "\n",
      "Node: 2\n",
      "Random Pointer: 1\n",
      "\n",
      "Node: 3\n",
      "Random Pointer: 5\n",
      "\n",
      "Node: 4\n",
      "Random Pointer: 2\n",
      "\n",
      "Node: 5\n",
      "Random Pointer: 3\n",
      "\n"
     ]
    }
   ],
   "source": [
    "# Create the original linked list\n",
    "head = Node(1)\n",
    "head.next = Node(2)\n",
    "head.next.next = Node(3)\n",
    "head.next.next.next = Node(4)\n",
    "head.next.next.next.next = Node(5)\n",
    "\n",
    "# Set random pointers\n",
    "head.random = head.next.next\n",
    "head.next.random = head\n",
    "head.next.next.random = head.next.next.next.next\n",
    "head.next.next.next.random = head.next\n",
    "head.next.next.next.next.random = head.next.next\n",
    "\n",
    "# Call the function to create a copy of the linked list\n",
    "new_head = copyRandomList(head)\n",
    "\n",
    "# Print the copied linked list\n",
    "current = new_head\n",
    "while current:\n",
    "    print(\"Node:\", current.data)\n",
    "    if current.random:\n",
    "        print(\"Random Pointer:\", current.random.data)\n",
    "    else:\n",
    "        print(\"Random Pointer: None\")\n",
    "    print()\n",
    "    current = current.next\n"
   ]
  },
  {
   "attachments": {},
   "cell_type": "markdown",
   "metadata": {},
   "source": [
    "# Q 5\n",
    "Given the `head` of a singly linked list, group all the nodes with odd indices together followed by the nodes with even indices, and return *the reordered list*.\n",
    "\n",
    "The **first** node is considered **odd**, and the **second** node is **even**, and so on.\n",
    "\n",
    "Note that the relative order inside both the even and odd groups should remain as it was in the input.\n",
    "\n",
    "You must solve the problem in `O(1)` extra space complexity and `O(n)` time complexity.\n"
   ]
  },
  {
   "cell_type": "code",
   "execution_count": 11,
   "metadata": {},
   "outputs": [],
   "source": [
    "class ListNode:\n",
    "    def __init__(self, val=0, next=None):\n",
    "        self.val = val\n",
    "        self.next = next\n",
    "\n",
    "def oddEvenList(head):\n",
    "    if not head or not head.next:\n",
    "        return head\n",
    "\n",
    "    odd = head\n",
    "    even = head.next\n",
    "    even_head = even\n",
    "\n",
    "    while even and even.next:\n",
    "        odd.next = even.next\n",
    "        odd = odd.next\n",
    "        even.next = odd.next\n",
    "        even = even.next\n",
    "\n",
    "    odd.next = even_head\n",
    "\n",
    "    return head\n"
   ]
  },
  {
   "attachments": {},
   "cell_type": "markdown",
   "metadata": {},
   "source": [
    "### Example 1"
   ]
  },
  {
   "cell_type": "code",
   "execution_count": 12,
   "metadata": {},
   "outputs": [
    {
     "name": "stdout",
     "output_type": "stream",
     "text": [
      "1 3 5 2 4 "
     ]
    }
   ],
   "source": [
    "# Create the linked list [1, 2, 3, 4, 5]\n",
    "head = ListNode(1)\n",
    "head.next = ListNode(2)\n",
    "head.next.next = ListNode(3)\n",
    "head.next.next.next = ListNode(4)\n",
    "head.next.next.next.next = ListNode(5)\n",
    "\n",
    "# Reorder the linked list by grouping odd and even indices\n",
    "reordered_head = oddEvenList(head)\n",
    "\n",
    "# Print the reordered linked list\n",
    "current = reordered_head\n",
    "while current:\n",
    "    print(current.val, end=\" \")\n",
    "    current = current.next\n"
   ]
  },
  {
   "attachments": {},
   "cell_type": "markdown",
   "metadata": {},
   "source": [
    "# Q 6\n",
    "Given a singly linked list of size **N**. The task is to **left-shift** the linked list by **k** nodes, where **k** is a given positive integer smaller than or equal to length of the linked list."
   ]
  },
  {
   "cell_type": "code",
   "execution_count": 13,
   "metadata": {},
   "outputs": [],
   "source": [
    "class ListNode:\n",
    "    def __init__(self, val=0, next=None):\n",
    "        self.val = val\n",
    "        self.next = next\n",
    "\n",
    "def leftRotate(head, k):\n",
    "    if not head or k == 0:\n",
    "        return head\n",
    "\n",
    "    # Find the k+1th node from the beginning\n",
    "    current = head\n",
    "    for _ in range(k-1):\n",
    "        current = current.next\n",
    "        if not current:\n",
    "            return head\n",
    "\n",
    "    new_head = current.next\n",
    "    if not new_head:\n",
    "        return head\n",
    "\n",
    "    # Set the kth node as the new tail\n",
    "    current.next = None\n",
    "\n",
    "    # Traverse to the end of the original list\n",
    "    current = new_head\n",
    "    while current.next:\n",
    "        current = current.next\n",
    "\n",
    "    # Connect the last node to the original head\n",
    "    current.next = head\n",
    "\n",
    "    return new_head\n"
   ]
  },
  {
   "attachments": {},
   "cell_type": "markdown",
   "metadata": {},
   "source": [
    "### Example 1"
   ]
  },
  {
   "cell_type": "code",
   "execution_count": 14,
   "metadata": {},
   "outputs": [
    {
     "name": "stdout",
     "output_type": "stream",
     "text": [
      "8 9 2 4 7 "
     ]
    }
   ],
   "source": [
    "# Create the linked list [2, 4, 7, 8, 9]\n",
    "head = ListNode(2)\n",
    "head.next = ListNode(4)\n",
    "head.next.next = ListNode(7)\n",
    "head.next.next.next = ListNode(8)\n",
    "head.next.next.next.next = ListNode(9)\n",
    "\n",
    "# Rotate the linked list left by 3 nodes\n",
    "rotated_head = leftRotate(head, 3)\n",
    "\n",
    "# Print the rotated linked list\n",
    "current = rotated_head\n",
    "while current:\n",
    "    print(current.val, end=\" \")\n",
    "    current = current.next\n"
   ]
  },
  {
   "attachments": {},
   "cell_type": "markdown",
   "metadata": {},
   "source": [
    "# Q 7\n",
    "\n",
    "You are given the `head` of a linked list with `n` nodes.\n",
    "\n",
    "For each node in the list, find the value of the **next greater node**. That is, for each node, find the value of the first node that is next to it and has a **strictly larger** value than it.\n",
    "\n",
    "Return an integer array `answer` where `answer[i]` is the value of the next greater node of the `ith` node (**1-indexed**). If the `ith` node does not have a next greater node, set `answer[i] = 0`."
   ]
  },
  {
   "cell_type": "code",
   "execution_count": 15,
   "metadata": {},
   "outputs": [],
   "source": [
    "class ListNode:\n",
    "    def __init__(self, val=0, next=None):\n",
    "        self.val = val\n",
    "        self.next = next\n",
    "\n",
    "def nextLargerNodes(head):\n",
    "    # Step 1: Store node values in a list\n",
    "    node_values = []\n",
    "    current = head\n",
    "    while current:\n",
    "        node_values.append(current.val)\n",
    "        current = current.next\n",
    "\n",
    "    # Step 2: Initialize stack and result array\n",
    "    stack = []\n",
    "    result = [0] * len(node_values)\n",
    "\n",
    "    # Step 4: Traverse node_values list and find next greater nodes\n",
    "    for i in range(len(node_values)):\n",
    "        while stack and node_values[i] > node_values[stack[-1]]:\n",
    "            index = stack.pop()\n",
    "            result[index] = node_values[i]\n",
    "        stack.append(i)\n",
    "\n",
    "    return result\n"
   ]
  },
  {
   "attachments": {},
   "cell_type": "markdown",
   "metadata": {},
   "source": [
    "### Example 1"
   ]
  },
  {
   "cell_type": "code",
   "execution_count": 16,
   "metadata": {},
   "outputs": [
    {
     "name": "stdout",
     "output_type": "stream",
     "text": [
      "5 5 0 "
     ]
    }
   ],
   "source": [
    "# Create the linked list [2, 1, 5]\n",
    "head = ListNode(2)\n",
    "head.next = ListNode(1)\n",
    "head.next.next = ListNode(5)\n",
    "\n",
    "# Find the next greater nodes for each node\n",
    "next_greater_nodes = nextLargerNodes(head)\n",
    "\n",
    "# Print the next greater nodes\n",
    "for val in next_greater_nodes:\n",
    "    print(val, end=\" \")\n"
   ]
  },
  {
   "attachments": {},
   "cell_type": "markdown",
   "metadata": {},
   "source": [
    "# Q 8\n",
    "\n",
    "Given the `head` of a linked list, we repeatedly delete consecutive sequences of nodes that sum to `0` until there are no such sequences.\n",
    "\n",
    "After doing so, return the head of the final linked list.  You may return any such answer.\n",
    "\n",
    "(Note that in the examples below, all sequences are serializations of `ListNode` objects.)"
   ]
  },
  {
   "cell_type": "code",
   "execution_count": 23,
   "metadata": {},
   "outputs": [],
   "source": [
    "class ListNode:\n",
    "    def __init__(self, val=0, next=None):\n",
    "        self.val = val\n",
    "        self.next = next\n",
    "\n",
    "def removeZeroSumSublists(head):\n",
    "    dummy = ListNode(0)\n",
    "    dummy.next = head\n",
    "\n",
    "    prefix_sums = {}\n",
    "    prefix_sum = 0\n",
    "    current = dummy\n",
    "\n",
    "    while current:\n",
    "        prefix_sum += current.val\n",
    "\n",
    "        if prefix_sum in prefix_sums:\n",
    "            prev = prefix_sums[prefix_sum]\n",
    "            prev.next = current.next\n",
    "            prefix_sum = prefix_sum - prev.val\n",
    "            node = prev.next\n",
    "\n",
    "            while node != current:\n",
    "                prefix_sum += node.val\n",
    "                del prefix_sums[prefix_sum]\n",
    "                node = node.next\n",
    "        else:\n",
    "            prefix_sums[prefix_sum] = current\n",
    "\n",
    "        current = current.next\n",
    "\n",
    "    return dummy.next\n"
   ]
  },
  {
   "attachments": {},
   "cell_type": "markdown",
   "metadata": {},
   "source": [
    "### Example 1"
   ]
  },
  {
   "cell_type": "code",
   "execution_count": 25,
   "metadata": {},
   "outputs": [
    {
     "ename": "KeyError",
     "evalue": "5",
     "output_type": "error",
     "traceback": [
      "\u001b[1;31m---------------------------------------------------------------------------\u001b[0m",
      "\u001b[1;31mKeyError\u001b[0m                                  Traceback (most recent call last)",
      "\u001b[1;32m<ipython-input-25-9e6608f23afb>\u001b[0m in \u001b[0;36m<module>\u001b[1;34m\u001b[0m\n\u001b[0;32m      7\u001b[0m \u001b[1;33m\u001b[0m\u001b[0m\n\u001b[0;32m      8\u001b[0m \u001b[1;31m# Remove consecutive sequences of nodes with a sum of zero\u001b[0m\u001b[1;33m\u001b[0m\u001b[1;33m\u001b[0m\u001b[1;33m\u001b[0m\u001b[0m\n\u001b[1;32m----> 9\u001b[1;33m \u001b[0mresult_head\u001b[0m \u001b[1;33m=\u001b[0m \u001b[0mremoveZeroSumSublists\u001b[0m\u001b[1;33m(\u001b[0m\u001b[0mhead\u001b[0m\u001b[1;33m)\u001b[0m\u001b[1;33m\u001b[0m\u001b[1;33m\u001b[0m\u001b[0m\n\u001b[0m\u001b[0;32m     10\u001b[0m \u001b[1;33m\u001b[0m\u001b[0m\n\u001b[0;32m     11\u001b[0m \u001b[1;31m# Print the resulting linked list\u001b[0m\u001b[1;33m\u001b[0m\u001b[1;33m\u001b[0m\u001b[1;33m\u001b[0m\u001b[0m\n",
      "\u001b[1;32m<ipython-input-23-a52bdf2544f6>\u001b[0m in \u001b[0;36mremoveZeroSumSublists\u001b[1;34m(head)\u001b[0m\n\u001b[0;32m     23\u001b[0m             \u001b[1;32mwhile\u001b[0m \u001b[0mnode\u001b[0m \u001b[1;33m!=\u001b[0m \u001b[0mcurrent\u001b[0m\u001b[1;33m:\u001b[0m\u001b[1;33m\u001b[0m\u001b[1;33m\u001b[0m\u001b[0m\n\u001b[0;32m     24\u001b[0m                 \u001b[0mprefix_sum\u001b[0m \u001b[1;33m+=\u001b[0m \u001b[0mnode\u001b[0m\u001b[1;33m.\u001b[0m\u001b[0mval\u001b[0m\u001b[1;33m\u001b[0m\u001b[1;33m\u001b[0m\u001b[0m\n\u001b[1;32m---> 25\u001b[1;33m                 \u001b[1;32mdel\u001b[0m \u001b[0mprefix_sums\u001b[0m\u001b[1;33m[\u001b[0m\u001b[0mprefix_sum\u001b[0m\u001b[1;33m]\u001b[0m\u001b[1;33m\u001b[0m\u001b[1;33m\u001b[0m\u001b[0m\n\u001b[0m\u001b[0;32m     26\u001b[0m                 \u001b[0mnode\u001b[0m \u001b[1;33m=\u001b[0m \u001b[0mnode\u001b[0m\u001b[1;33m.\u001b[0m\u001b[0mnext\u001b[0m\u001b[1;33m\u001b[0m\u001b[1;33m\u001b[0m\u001b[0m\n\u001b[0;32m     27\u001b[0m         \u001b[1;32melse\u001b[0m\u001b[1;33m:\u001b[0m\u001b[1;33m\u001b[0m\u001b[1;33m\u001b[0m\u001b[0m\n",
      "\u001b[1;31mKeyError\u001b[0m: 5"
     ]
    }
   ],
   "source": [
    "# Create the linked list [1, 2, 3, -3, 4]\n",
    "head = ListNode(1)\n",
    "head.next = ListNode(2)\n",
    "head.next.next = ListNode(3)\n",
    "head.next.next.next = ListNode(-3)\n",
    "head.next.next.next.next = ListNode(4)\n",
    "\n",
    "# Remove consecutive sequences of nodes with a sum of zero\n",
    "result_head = removeZeroSumSublists(head)\n",
    "\n",
    "# Print the resulting linked list\n",
    "current = result_head\n",
    "while current:\n",
    "    print(current.val, end=\" \")\n",
    "    current = current.next\n"
   ]
  },
  {
   "cell_type": "code",
   "execution_count": null,
   "metadata": {},
   "outputs": [],
   "source": []
  }
 ],
 "metadata": {
  "kernelspec": {
   "display_name": "base",
   "language": "python",
   "name": "python3"
  },
  "language_info": {
   "codemirror_mode": {
    "name": "ipython",
    "version": 3
   },
   "file_extension": ".py",
   "mimetype": "text/x-python",
   "name": "python",
   "nbconvert_exporter": "python",
   "pygments_lexer": "ipython3",
   "version": "3.8.5"
  },
  "orig_nbformat": 4
 },
 "nbformat": 4,
 "nbformat_minor": 2
}
