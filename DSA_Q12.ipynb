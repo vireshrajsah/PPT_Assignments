{
 "cells": [
  {
   "attachments": {},
   "cell_type": "markdown",
   "metadata": {},
   "source": [
    "# Q1\n",
    "\n",
    "Given a singly linked list, delete **middle** of the linked list. For example, if given linked list is 1->2->**3**->4->5 then linked list should be modified to 1->2->4->5.If there are **even** nodes, then there would be **two middle** nodes, we need to delete the second middle element. For example, if given linked list is 1->2->3->4->5->6 then it should be modified to 1->2->3->5->6.If the input linked list is NULL or has 1 node, then it should return NULL\n"
   ]
  },
  {
   "cell_type": "code",
   "execution_count": 1,
   "metadata": {},
   "outputs": [],
   "source": [
    "class ListNode:\n",
    "    def __init__(self, val=0, next=None):\n",
    "        self.val = val\n",
    "        self.next = next\n",
    "\n",
    "def deleteMiddleNode(head):\n",
    "    if head is None or head.next is None:\n",
    "        return None\n",
    "\n",
    "    slowPtr = head\n",
    "    fastPtr = head\n",
    "    prevPtr = None\n",
    "\n",
    "    while fastPtr is not None and fastPtr.next is not None:\n",
    "        fastPtr = fastPtr.next.next\n",
    "        prevPtr = slowPtr\n",
    "        slowPtr = slowPtr.next\n",
    "\n",
    "    # Delete the middle node(s)\n",
    "    prevPtr.next = slowPtr.next\n",
    "\n",
    "    return head\n",
    "\n",
    "# Function to print the linked list\n",
    "def printLinkedList(head):\n",
    "    curr = head\n",
    "    while curr is not None:\n",
    "        print(curr.val, end=\" \")\n",
    "        curr = curr.next\n",
    "    print()\n",
    "\n"
   ]
  },
  {
   "attachments": {},
   "cell_type": "markdown",
   "metadata": {},
   "source": [
    "### Example"
   ]
  },
  {
   "cell_type": "code",
   "execution_count": 2,
   "metadata": {},
   "outputs": [
    {
     "name": "stdout",
     "output_type": "stream",
     "text": [
      "Original Linked List:\n",
      "1 2 3 4 5 \n",
      "Modified Linked List:\n",
      "1 2 4 5 \n"
     ]
    }
   ],
   "source": [
    "\n",
    "head = ListNode(1)\n",
    "head.next = ListNode(2)\n",
    "head.next.next = ListNode(3)\n",
    "head.next.next.next = ListNode(4)\n",
    "head.next.next.next.next = ListNode(5)\n",
    "\n",
    "print(\"Original Linked List:\")\n",
    "printLinkedList(head)  \n",
    "\n",
    "head = deleteMiddleNode(head)\n",
    "\n",
    "print(\"Modified Linked List:\")\n",
    "printLinkedList(head)  \n"
   ]
  },
  {
   "attachments": {},
   "cell_type": "markdown",
   "metadata": {},
   "source": [
    "# Q2\n",
    "Given a linked list of **N** nodes. The task is to check if the linked list has a loop. Linked list can contain self loop."
   ]
  },
  {
   "cell_type": "code",
   "execution_count": 3,
   "metadata": {},
   "outputs": [],
   "source": [
    "class ListNode:\n",
    "    def __init__(self, val=0, next=None):\n",
    "        self.val = val\n",
    "        self.next = next\n",
    "\n",
    "def hasLoop(head):\n",
    "    slow = head\n",
    "    fast = head\n",
    "\n",
    "    while fast is not None and fast.next is not None:\n",
    "        slow = slow.next\n",
    "        fast = fast.next.next\n",
    "\n",
    "        if slow == fast:\n",
    "            return True\n",
    "\n",
    "    return False\n",
    "\n"
   ]
  },
  {
   "attachments": {},
   "cell_type": "markdown",
   "metadata": {},
   "source": [
    "### Example"
   ]
  },
  {
   "cell_type": "code",
   "execution_count": 5,
   "metadata": {},
   "outputs": [
    {
     "name": "stdout",
     "output_type": "stream",
     "text": [
      "True\n"
     ]
    }
   ],
   "source": [
    "\n",
    "head = ListNode(1)\n",
    "head.next = ListNode(2)\n",
    "head.next.next = ListNode(3)\n",
    "head.next.next.next = ListNode(4)\n",
    "head.next.next.next.next = ListNode(5)\n",
    "head.next.next.next.next.next = head.next\n",
    "\n",
    "hasLoopResult = hasLoop(head)\n",
    "\n",
    "print(hasLoopResult)\n"
   ]
  },
  {
   "attachments": {},
   "cell_type": "markdown",
   "metadata": {},
   "source": [
    "# Q3\n",
    "\n",
    "Given a linked list consisting of **L** nodes and given a number **N**. The task is to find the **N**th node from the end of the linked list.\n"
   ]
  },
  {
   "cell_type": "code",
   "execution_count": 6,
   "metadata": {},
   "outputs": [],
   "source": [
    "class ListNode:\n",
    "    def __init__(self, val=0, next=None):\n",
    "        self.val = val\n",
    "        self.next = next\n",
    "\n",
    "def getNthFromEnd(head, N):\n",
    "    mainPtr = head\n",
    "    refPtr = head\n",
    "\n",
    "    # Move refPtr N nodes ahead\n",
    "    for _ in range(N):\n",
    "        if refPtr is None:\n",
    "            return None\n",
    "        refPtr = refPtr.next\n",
    "\n",
    "    # Move both mainPtr and refPtr until refPtr reaches the end\n",
    "    while refPtr is not None:\n",
    "        mainPtr = mainPtr.next\n",
    "        refPtr = refPtr.next\n",
    "\n",
    "    return mainPtr.val\n",
    "\n"
   ]
  },
  {
   "attachments": {},
   "cell_type": "markdown",
   "metadata": {},
   "source": [
    "### Example"
   ]
  },
  {
   "cell_type": "code",
   "execution_count": 7,
   "metadata": {},
   "outputs": [
    {
     "name": "stdout",
     "output_type": "stream",
     "text": [
      "8\n"
     ]
    }
   ],
   "source": [
    "\n",
    "head = ListNode(1)\n",
    "head.next = ListNode(2)\n",
    "head.next.next = ListNode(3)\n",
    "head.next.next.next = ListNode(4)\n",
    "head.next.next.next.next = ListNode(5)\n",
    "head.next.next.next.next.next = ListNode(6)\n",
    "head.next.next.next.next.next.next = ListNode(7)\n",
    "head.next.next.next.next.next.next.next = ListNode(8)\n",
    "head.next.next.next.next.next.next.next.next = ListNode(9)\n",
    "\n",
    "N = 2\n",
    "\n",
    "nthNodeFromEnd = getNthFromEnd(head, N)\n",
    "\n",
    "print(nthNodeFromEnd)  \n"
   ]
  },
  {
   "attachments": {},
   "cell_type": "markdown",
   "metadata": {},
   "source": [
    "# Q4\n",
    "Given a singly linked list of characters, write a function that returns true if the given list is a palindrome, else false."
   ]
  },
  {
   "cell_type": "code",
   "execution_count": 8,
   "metadata": {},
   "outputs": [],
   "source": [
    "class ListNode:\n",
    "    def __init__(self, val=0, next=None):\n",
    "        self.val = val\n",
    "        self.next = next\n",
    "\n",
    "def isPalindrome(head):\n",
    "    # Step 1: Traverse the linked list and store characters\n",
    "    chars = []\n",
    "    current = head\n",
    "    while current is not None:\n",
    "        chars.append(current.val)\n",
    "        current = current.next\n",
    "    \n",
    "    # Step 2: Traverse the linked list again and compare characters\n",
    "    current = head\n",
    "    while current is not None:\n",
    "        if current.val != chars.pop():\n",
    "            return False\n",
    "        current = current.next\n",
    "    \n",
    "    return True\n"
   ]
  },
  {
   "attachments": {},
   "cell_type": "markdown",
   "metadata": {},
   "source": [
    "### Example"
   ]
  },
  {
   "cell_type": "code",
   "execution_count": 9,
   "metadata": {},
   "outputs": [
    {
     "name": "stdout",
     "output_type": "stream",
     "text": [
      "True\n",
      "False\n"
     ]
    }
   ],
   "source": [
    "\n",
    "head = ListNode('R')\n",
    "head.next = ListNode('A')\n",
    "head.next.next = ListNode('D')\n",
    "head.next.next.next = ListNode('A')\n",
    "head.next.next.next.next = ListNode('R')\n",
    "\n",
    "print(isPalindrome(head))  \n",
    "\n",
    "head = ListNode('C')\n",
    "head.next = ListNode('O')\n",
    "head.next.next = ListNode('D')\n",
    "head.next.next.next = ListNode('E')\n",
    "\n",
    "print(isPalindrome(head)) \n"
   ]
  },
  {
   "attachments": {},
   "cell_type": "markdown",
   "metadata": {},
   "source": [
    "# Q5\n",
    "Given a linked list of **N** nodes such that it may contain a loop.\n",
    "\n",
    "A loop here means that the last node of the link list is connected to the node at position X(1-based index). If the link list does not have any loop, X=0.\n",
    "\n",
    "Remove the loop from the linked list, if it is present, i.e. unlink the last node which is forming the loop."
   ]
  },
  {
   "cell_type": "code",
   "execution_count": 10,
   "metadata": {},
   "outputs": [],
   "source": [
    "class ListNode:\n",
    "    def __init__(self, val=0, next=None):\n",
    "        self.val = val\n",
    "        self.next = next\n",
    "\n",
    "def detectAndRemoveLoop(head):\n",
    "    slow = head\n",
    "    fast = head\n",
    "\n",
    "    # Find the meeting point of the slow and fast pointers\n",
    "    while fast is not None and fast.next is not None:\n",
    "        slow = slow.next\n",
    "        fast = fast.next.next\n",
    "        if slow == fast:\n",
    "            break\n",
    "\n",
    "    # If there is no loop, return the linked list as it is\n",
    "    if fast is None or fast.next is None:\n",
    "        return head\n",
    "\n",
    "    # Move the slow pointer back to the head of the list\n",
    "    slow = head\n",
    "\n",
    "    # Move both pointers at the same pace until they meet again\n",
    "    while slow.next != fast.next:\n",
    "        slow = slow.next\n",
    "        fast = fast.next\n",
    "\n",
    "    # Break the loop by making the next pointer of the node\n",
    "    # just before the start of the loop point to None\n",
    "    fast.next = None\n",
    "\n",
    "    return head\n",
    "\n"
   ]
  },
  {
   "attachments": {},
   "cell_type": "markdown",
   "metadata": {},
   "source": [
    "### Example"
   ]
  },
  {
   "cell_type": "code",
   "execution_count": 11,
   "metadata": {},
   "outputs": [
    {
     "name": "stdout",
     "output_type": "stream",
     "text": [
      "1 3 4 3 "
     ]
    }
   ],
   "source": [
    "# Example usage\n",
    "# Create the linked list: 1 -> 3 -> 4 -> 3 (loop)\n",
    "head = ListNode(1)\n",
    "head.next = ListNode(3)\n",
    "head.next.next = ListNode(4)\n",
    "head.next.next.next = ListNode(3)\n",
    "head.next.next.next.next = head.next  # Creating a loop\n",
    "\n",
    "head = detectAndRemoveLoop(head)\n",
    "\n",
    "# The loop has been removed, print the linked list\n",
    "current = head\n",
    "while current is not None:\n",
    "    print(current.val, end=\" \")\n",
    "    current = current.next\n",
    "\n",
    "# Output: 1 3 4\n"
   ]
  },
  {
   "attachments": {},
   "cell_type": "markdown",
   "metadata": {},
   "source": [
    "# Q6\n",
    "Given a linked list and two integers M and N. Traverse the linked list such that you retain M nodes then delete next N nodes, continue the same till end of the linked list.\n"
   ]
  },
  {
   "cell_type": "code",
   "execution_count": 12,
   "metadata": {},
   "outputs": [],
   "source": [
    "class ListNode:\n",
    "    def __init__(self, val=0, next=None):\n",
    "        self.val = val\n",
    "        self.next = next\n",
    "\n",
    "def retainAndDelete(head, M, N):\n",
    "    current = head\n",
    "    prev = None\n",
    "\n",
    "    while current:\n",
    "        # Skip M nodes\n",
    "        for _ in range(M):\n",
    "            if current:\n",
    "                prev = current\n",
    "                current = current.next\n",
    "            else:\n",
    "                break\n",
    "\n",
    "        # Break if current is None\n",
    "        if not current:\n",
    "            break\n",
    "\n",
    "        temp = current\n",
    "\n",
    "        # Skip N nodes\n",
    "        for _ in range(N):\n",
    "            if temp:\n",
    "                temp = temp.next\n",
    "            else:\n",
    "                break\n",
    "\n",
    "        # Update the next pointer of the previous node\n",
    "        prev.next = temp\n",
    "\n",
    "        # Set the current pointer to temp\n",
    "        current = temp\n",
    "\n",
    "    return head\n",
    "\n"
   ]
  },
  {
   "attachments": {},
   "cell_type": "markdown",
   "metadata": {},
   "source": [
    "### Example"
   ]
  },
  {
   "cell_type": "code",
   "execution_count": 13,
   "metadata": {},
   "outputs": [
    {
     "name": "stdout",
     "output_type": "stream",
     "text": [
      "1 2 5 6 "
     ]
    }
   ],
   "source": [
    "\n",
    "head = ListNode(1)\n",
    "head.next = ListNode(2)\n",
    "head.next.next = ListNode(3)\n",
    "head.next.next.next = ListNode(4)\n",
    "head.next.next.next.next = ListNode(5)\n",
    "head.next.next.next.next.next = ListNode(6)\n",
    "head.next.next.next.next.next.next = ListNode(7)\n",
    "head.next.next.next.next.next.next.next = ListNode(8)\n",
    "\n",
    "M = 2\n",
    "N = 2\n",
    "\n",
    "head = retainAndDelete(head, M, N)\n",
    "\n",
    "# Traverse the modified linked list and print its values\n",
    "current = head\n",
    "while current:\n",
    "    print(current.val, end=\" \")\n",
    "    current = current.next\n",
    "\n"
   ]
  },
  {
   "attachments": {},
   "cell_type": "markdown",
   "metadata": {},
   "source": [
    "# Q7\n",
    "Given two linked lists, insert nodes of second list into first list at alternate positions of first list.\n",
    "For example, if first list is 5->7->17->13->11 and second is 12->10->2->4->6, the first list should become 5->12->7->10->17->2->13->4->11->6 and second list should become empty. The nodes of second list should only be inserted when there are positions available. For example, if the first list is 1->2->3 and second list is 4->5->6->7->8, then first list should become 1->4->2->5->3->6 and second list to 7->8.\n",
    "\n",
    "Use of extra space is not allowed (Not allowed to create additional nodes), i.e., insertion must be done in-place. Expected time complexity is O(n) where n is number of nodes in first list.\n"
   ]
  },
  {
   "cell_type": "code",
   "execution_count": 17,
   "metadata": {},
   "outputs": [],
   "source": [
    "class ListNode:\n",
    "    def __init__(self, val=0, next=None):\n",
    "        self.val = val\n",
    "        self.next = next\n",
    "\n",
    "def mergeAlternate(first, second):\n",
    "    if not second:\n",
    "        return first\n",
    "\n",
    "    prev = None\n",
    "    while first and second:\n",
    "        first_next = first.next\n",
    "        second_next = second.next\n",
    "\n",
    "        first.next = second\n",
    "        second.next = first_next\n",
    "\n",
    "        prev = second\n",
    "        first = first_next\n",
    "        second = second_next\n",
    "\n",
    "    if second:\n",
    "        prev.next = second\n",
    "\n",
    "    return first\n"
   ]
  },
  {
   "attachments": {},
   "cell_type": "markdown",
   "metadata": {},
   "source": [
    "### Example"
   ]
  },
  {
   "cell_type": "code",
   "execution_count": 18,
   "metadata": {},
   "outputs": [],
   "source": [
    "\n",
    "# Example usage\n",
    "# Create the first linked list: 5 -> 7 -> 17 -> 13 -> 11\n",
    "first = ListNode(5)\n",
    "first.next = ListNode(7)\n",
    "first.next.next = ListNode(17)\n",
    "first.next.next.next = ListNode(13)\n",
    "first.next.next.next.next = ListNode(11)\n",
    "\n",
    "# Create the second linked list: 12 -> 10 -> 2 -> 4 -> 6\n",
    "second = ListNode(12)\n",
    "second.next = ListNode(10)\n",
    "second.next.next = ListNode(2)\n",
    "second.next.next.next = ListNode(4)\n",
    "second.next.next.next.next = ListNode(6)\n",
    "\n",
    "first = mergeAlternate(first, second)\n",
    "second = None\n",
    "\n",
    "# Traverse the modified first linked list and print its values\n",
    "current = first\n",
    "while current:\n",
    "    print(current.val, end=\" \")\n",
    "    current = current.next\n",
    "\n",
    "# Output: 5 12 7 10 17 2 13 4 11 6\n"
   ]
  },
  {
   "attachments": {},
   "cell_type": "markdown",
   "metadata": {},
   "source": [
    "# Q8\n",
    "\n",
    "Given a singly linked list, find if the linked list is [circular](https://www.geeksforgeeks.org/circular-linked-list/amp/) or not.\n",
    "\n",
    "> A linked list is called circular if it is not NULL-terminated and all nodes are connected in the form of a cycle. Below is an example of a circular linked list.\n"
   ]
  },
  {
   "cell_type": "code",
   "execution_count": 19,
   "metadata": {},
   "outputs": [],
   "source": [
    "class ListNode:\n",
    "    def __init__(self, val=0, next=None):\n",
    "        self.val = val\n",
    "        self.next = next\n",
    "\n",
    "def isCircular(head):\n",
    "    if head is None:\n",
    "        return False\n",
    "\n",
    "    slow = head\n",
    "    fast = head.next\n",
    "\n",
    "    while fast and fast.next:\n",
    "        if slow == fast:\n",
    "            return True\n",
    "        slow = slow.next\n",
    "        fast = fast.next.next\n",
    "\n",
    "    return False\n",
    "\n"
   ]
  },
  {
   "attachments": {},
   "cell_type": "markdown",
   "metadata": {},
   "source": [
    "### Example"
   ]
  },
  {
   "cell_type": "code",
   "execution_count": 20,
   "metadata": {},
   "outputs": [
    {
     "name": "stdout",
     "output_type": "stream",
     "text": [
      "True\n",
      "False\n"
     ]
    }
   ],
   "source": [
    "\n",
    "head = ListNode(1)\n",
    "head.next = ListNode(2)\n",
    "head.next.next = ListNode(3)\n",
    "head.next.next.next = ListNode(4)\n",
    "head.next.next.next.next = head.next\n",
    "\n",
    "print(isCircular(head))  \n",
    "\n",
    "\n",
    "head = ListNode(1)\n",
    "head.next = ListNode(2)\n",
    "head.next.next = ListNode(3)\n",
    "head.next.next.next = ListNode(4)\n",
    "\n",
    "print(isCircular(head)) "
   ]
  }
 ],
 "metadata": {
  "kernelspec": {
   "display_name": "base",
   "language": "python",
   "name": "python3"
  },
  "language_info": {
   "codemirror_mode": {
    "name": "ipython",
    "version": 3
   },
   "file_extension": ".py",
   "mimetype": "text/x-python",
   "name": "python",
   "nbconvert_exporter": "python",
   "pygments_lexer": "ipython3",
   "version": "3.8.5"
  },
  "orig_nbformat": 4
 },
 "nbformat": 4,
 "nbformat_minor": 2
}
