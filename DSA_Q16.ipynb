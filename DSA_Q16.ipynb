{
 "cells": [
  {
   "attachments": {},
   "cell_type": "markdown",
   "metadata": {},
   "source": [
    "# Q1\n",
    "Given an array, for each element find the value of the nearest element to the right which is having a frequency greater than that of the current element. If there does not exist an answer for a position, then make the value ‘-1’."
   ]
  },
  {
   "cell_type": "code",
   "execution_count": 1,
   "metadata": {},
   "outputs": [],
   "source": [
    "def nearestGreaterFrequency(arr):\n",
    "    n = len(arr)\n",
    "    frequency = {}\n",
    "    stack = []\n",
    "    result = [-1] * n\n",
    "\n",
    "    # Calculate frequency of each element\n",
    "    for num in arr:\n",
    "        frequency[num] = frequency.get(num, 0) + 1\n",
    "\n",
    "    # Iterate over the array from right to left\n",
    "    for i in range(n - 1, -1, -1):\n",
    "        curr = arr[i]\n",
    "        freq = frequency[curr]\n",
    "\n",
    "        # Pop elements from stack with lesser frequency\n",
    "        while stack and frequency[stack[-1]] <= freq:\n",
    "            stack.pop()\n",
    "\n",
    "        # Update result with nearest element on the right\n",
    "        if stack:\n",
    "            result[i] = stack[-1]\n",
    "\n",
    "        stack.append(curr)\n",
    "\n",
    "    return result\n"
   ]
  },
  {
   "attachments": {},
   "cell_type": "markdown",
   "metadata": {},
   "source": [
    "### Example"
   ]
  },
  {
   "cell_type": "code",
   "execution_count": 2,
   "metadata": {},
   "outputs": [
    {
     "name": "stdout",
     "output_type": "stream",
     "text": [
      "[-1, -1, 1, 2, 2, 1, -1]\n"
     ]
    }
   ],
   "source": [
    "arr = [1, 1, 2, 3, 4, 2, 1]\n",
    "output = nearestGreaterFrequency(arr)\n",
    "print(output)"
   ]
  },
  {
   "attachments": {},
   "cell_type": "markdown",
   "metadata": {},
   "source": [
    "# Q2\n",
    "\n",
    "Given a stack of integers, sort it in ascending order using another temporary stack."
   ]
  },
  {
   "cell_type": "code",
   "execution_count": 3,
   "metadata": {},
   "outputs": [],
   "source": [
    "def sortStack(stack):\n",
    "    tempStack = []\n",
    "\n",
    "    while stack:\n",
    "        temp = stack.pop()\n",
    "\n",
    "        while tempStack and tempStack[-1] > temp:\n",
    "            stack.append(tempStack.pop())\n",
    "\n",
    "        tempStack.append(temp)\n",
    "\n",
    "    # Reversing the sorted stack\n",
    "    while tempStack:\n",
    "        stack.append(tempStack.pop())\n",
    "\n",
    "    return stack\n"
   ]
  },
  {
   "attachments": {},
   "cell_type": "markdown",
   "metadata": {},
   "source": [
    "### Example"
   ]
  },
  {
   "cell_type": "code",
   "execution_count": 4,
   "metadata": {},
   "outputs": [
    {
     "name": "stdout",
     "output_type": "stream",
     "text": [
      "[98, 92, 34, 31, 23, 3]\n",
      "[8, 5, 4, 3, 2, 1]\n"
     ]
    }
   ],
   "source": [
    "stack1 = [34, 3, 31, 98, 92, 23]\n",
    "output1 = sortStack(stack1)\n",
    "print(output1) \n",
    "\n",
    "stack2 = [3, 5, 1, 4, 2, 8]\n",
    "output2 = sortStack(stack2)\n",
    "print(output2)\n"
   ]
  },
  {
   "attachments": {},
   "cell_type": "markdown",
   "metadata": {},
   "source": [
    "# Q3\n",
    "\n",
    "Given a stack with **push()**, **pop()**, and **empty()** operations, The task is to delete the **middle** element ****of it without using any additional data structure."
   ]
  },
  {
   "cell_type": "code",
   "execution_count": 5,
   "metadata": {},
   "outputs": [],
   "source": [
    "def deleteMiddle(stack):\n",
    "    size = len(stack)\n",
    "    middleIndex = size // 2 + 1 if size % 2 != 0 else size // 2\n",
    "\n",
    "    def deleteMiddleHelper(currIndex):\n",
    "        if currIndex == middleIndex:\n",
    "            stack.pop()\n",
    "            return\n",
    "        else:\n",
    "            temp = stack.pop()\n",
    "            deleteMiddleHelper(currIndex + 1)\n",
    "            stack.append(temp)\n",
    "\n",
    "    deleteMiddleHelper(1)\n",
    "\n",
    "    return stack\n"
   ]
  },
  {
   "attachments": {},
   "cell_type": "markdown",
   "metadata": {},
   "source": [
    "### Example"
   ]
  },
  {
   "cell_type": "code",
   "execution_count": 7,
   "metadata": {},
   "outputs": [
    {
     "name": "stdout",
     "output_type": "stream",
     "text": [
      "[1, 2, 4, 5]\n",
      "[1, 2, 3, 5, 6]\n"
     ]
    }
   ],
   "source": [
    "stack1 = [1, 2, 3, 4, 5]\n",
    "output1 = deleteMiddle(stack1)\n",
    "print(output1)\n",
    "\n",
    "stack2 = [1, 2, 3, 4, 5, 6]\n",
    "output2 = deleteMiddle(stack2)\n",
    "print(output2)  \n"
   ]
  },
  {
   "attachments": {},
   "cell_type": "markdown",
   "metadata": {},
   "source": [
    "# Q4\n",
    "\n",
    "Given a Queue consisting of first **n** natural numbers (in random order). The task is to check whether the given Queue elements can be arranged in increasing order in another Queue using a stack. The operation allowed are:\n",
    "\n",
    "1. Push and pop elements from the stack\n",
    "2. Pop (Or Dequeue) from the given Queue.\n",
    "3. Push (Or Enqueue) in the another Queue.\n"
   ]
  },
  {
   "cell_type": "code",
   "execution_count": 8,
   "metadata": {},
   "outputs": [],
   "source": [
    "from queue import Queue\n",
    "\n",
    "def checkIncreasingOrder(queue):\n",
    "    stack = []\n",
    "    expected = 1\n",
    "\n",
    "    while not queue.empty():\n",
    "        stack.append(queue.get())\n",
    "\n",
    "    while stack:\n",
    "        if stack[-1] == expected:\n",
    "            stack.pop()\n",
    "            expected += 1\n",
    "        elif not queue.empty() and queue.queue[0] == expected:\n",
    "            queue.get()\n",
    "            expected += 1\n",
    "        else:\n",
    "            return \"No\"\n",
    "\n",
    "    if queue.empty() and not stack:\n",
    "        return \"Yes\"\n",
    "    else:\n",
    "        return \"No\"\n"
   ]
  },
  {
   "attachments": {},
   "cell_type": "markdown",
   "metadata": {},
   "source": [
    "### Example"
   ]
  },
  {
   "cell_type": "code",
   "execution_count": 9,
   "metadata": {},
   "outputs": [
    {
     "name": "stdout",
     "output_type": "stream",
     "text": [
      "No\n",
      "No\n"
     ]
    }
   ],
   "source": [
    "queue1 = Queue()\n",
    "queue1.put(5)\n",
    "queue1.put(1)\n",
    "queue1.put(2)\n",
    "queue1.put(3)\n",
    "queue1.put(4)\n",
    "output1 = checkIncreasingOrder(queue1)\n",
    "print(output1)  # Output: Yes\n",
    "\n",
    "queue2 = Queue()\n",
    "queue2.put(5)\n",
    "queue2.put(1)\n",
    "queue2.put(2)\n",
    "queue2.put(6)\n",
    "queue2.put(3)\n",
    "queue2.put(4)\n",
    "output2 = checkIncreasingOrder(queue2)\n",
    "print(output2)  # Output: No\n"
   ]
  },
  {
   "attachments": {},
   "cell_type": "markdown",
   "metadata": {},
   "source": [
    "# Q5\n",
    "\n",
    "Given a number , write a program to reverse this number using stack."
   ]
  },
  {
   "cell_type": "code",
   "execution_count": 10,
   "metadata": {},
   "outputs": [],
   "source": [
    "def reverseNumber(num):\n",
    "    stack = []\n",
    "    num_str = str(num)\n",
    "\n",
    "    for digit in num_str:\n",
    "        stack.append(digit)\n",
    "\n",
    "    reversed_num_str = \"\"\n",
    "    while stack:\n",
    "        reversed_num_str += stack.pop()\n",
    "\n",
    "    reversed_num = int(reversed_num_str)\n",
    "    return reversed_num\n"
   ]
  },
  {
   "attachments": {},
   "cell_type": "markdown",
   "metadata": {},
   "source": [
    "### Example"
   ]
  },
  {
   "cell_type": "code",
   "execution_count": 11,
   "metadata": {},
   "outputs": [
    {
     "name": "stdout",
     "output_type": "stream",
     "text": [
      "563\n",
      "9986\n"
     ]
    }
   ],
   "source": [
    "num1 = 365\n",
    "output1 = reverseNumber(num1)\n",
    "print(output1)  # Output: 563\n",
    "\n",
    "num2 = 6899\n",
    "output2 = reverseNumber(num2)\n",
    "print(output2)  # Output: 9986\n"
   ]
  },
  {
   "attachments": {},
   "cell_type": "markdown",
   "metadata": {},
   "source": [
    "# Q6\n",
    "\n",
    "Given an integer k and a **[queue](https://www.geeksforgeeks.org/queue-data-structure/)** of integers, The task is to reverse the order of the first **k** elements of the queue, leaving the other elements in the same relative order.\n",
    "\n",
    "Only following standard operations are allowed on queue.\n",
    "\n",
    "- **enqueue(x) :** Add an item x to rear of queue\n",
    "- **dequeue() :** Remove an item from front of queue\n",
    "- **size() :** Returns number of elements in queue.\n",
    "- **front() :** Finds front item.\n"
   ]
  },
  {
   "cell_type": "code",
   "execution_count": 12,
   "metadata": {},
   "outputs": [],
   "source": [
    "from queue import Queue\n",
    "\n",
    "def reverseKElements(queue, k):\n",
    "    if k <= 0 or k > queue.qsize():\n",
    "        return queue\n",
    "\n",
    "    stack = []\n",
    "    for _ in range(k):\n",
    "        stack.append(queue.get())\n",
    "\n",
    "    while stack:\n",
    "        queue.put(stack.pop())\n",
    "\n",
    "    for _ in range(queue.qsize() - k):\n",
    "        queue.put(queue.get())\n",
    "\n",
    "    return queue\n"
   ]
  },
  {
   "attachments": {},
   "cell_type": "markdown",
   "metadata": {},
   "source": [
    "### Example"
   ]
  },
  {
   "cell_type": "code",
   "execution_count": 13,
   "metadata": {},
   "outputs": [
    {
     "name": "stdout",
     "output_type": "stream",
     "text": [
      "4\n",
      "3\n",
      "2\n",
      "1\n",
      "5\n",
      "6\n",
      "7\n"
     ]
    }
   ],
   "source": [
    "queue = Queue()\n",
    "queue.put(1)\n",
    "queue.put(2)\n",
    "queue.put(3)\n",
    "queue.put(4)\n",
    "queue.put(5)\n",
    "queue.put(6)\n",
    "queue.put(7)\n",
    "\n",
    "k = 4\n",
    "reversed_queue = reverseKElements(queue, k)\n",
    "\n",
    "# Printing the elements of the reversed queue\n",
    "while not reversed_queue.empty():\n",
    "    print(reversed_queue.get())  # Output: 4 3 2 1 5 6 7\n"
   ]
  },
  {
   "attachments": {},
   "cell_type": "markdown",
   "metadata": {},
   "source": [
    "# Q7\n",
    "Given a sequence of n strings, the task is to check if any two similar words come together and then destroy each other then print the number of words left in the sequence after this pairwise destruction."
   ]
  },
  {
   "cell_type": "code",
   "execution_count": 15,
   "metadata": {},
   "outputs": [],
   "source": [
    "def countWordsLeft(sequence):\n",
    "    stack = []\n",
    "    for word in sequence:\n",
    "        if len(stack) == 0 or word != stack[-1]:\n",
    "            stack.append(word)\n",
    "        else:\n",
    "            stack.pop()\n",
    "    \n",
    "    return len(stack)\n",
    "\n"
   ]
  },
  {
   "attachments": {},
   "cell_type": "markdown",
   "metadata": {},
   "source": [
    "### Example"
   ]
  },
  {
   "cell_type": "code",
   "execution_count": 16,
   "metadata": {},
   "outputs": [
    {
     "name": "stdout",
     "output_type": "stream",
     "text": [
      "3\n",
      "0\n"
     ]
    }
   ],
   "source": [
    "\n",
    "# Example usage\n",
    "sequence = [\"ab\", \"aa\", \"aa\", \"bcd\", \"ab\"]\n",
    "result = countWordsLeft(sequence)\n",
    "print(result)  # Output: 3\n",
    "\n",
    "sequence = [\"tom\", \"jerry\", \"jerry\", \"tom\"]\n",
    "result = countWordsLeft(sequence)\n",
    "print(result)  # Output: 0"
   ]
  },
  {
   "attachments": {},
   "cell_type": "markdown",
   "metadata": {},
   "source": [
    "# Q8\n",
    "Given an array of integers, the task is to find the maximum absolute difference between the nearest left and the right smaller element of every element in the array.\n",
    "\n",
    "**Note:** If there is no smaller element on right side or left side of any element then we take zero as the smaller element. For example for the leftmost element, the nearest smaller element on the left side is considered as 0. Similarly, for rightmost elements, the smaller element on the right side is considered as 0."
   ]
  },
  {
   "cell_type": "code",
   "execution_count": 17,
   "metadata": {},
   "outputs": [],
   "source": [
    "def maxAbsDiff(arr):\n",
    "    n = len(arr)\n",
    "    NSL = [0] * n\n",
    "    NSR = [0] * n\n",
    "    leftStack = []\n",
    "    rightStack = []\n",
    "\n",
    "    # Finding nearest smaller element on the left\n",
    "    for i in range(n):\n",
    "        while leftStack and arr[leftStack[-1]] >= arr[i]:\n",
    "            leftStack.pop()\n",
    "        if leftStack:\n",
    "            NSL[i] = arr[leftStack[-1]]\n",
    "        leftStack.append(i)\n",
    "\n",
    "    # Finding nearest smaller element on the right\n",
    "    for i in range(n - 1, -1, -1):\n",
    "        while rightStack and arr[rightStack[-1]] >= arr[i]:\n",
    "            rightStack.pop()\n",
    "        if rightStack:\n",
    "            NSR[i] = arr[rightStack[-1]]\n",
    "        rightStack.append(i)\n",
    "\n",
    "    # Update NSL and NSR for remaining elements in stacks\n",
    "    while leftStack:\n",
    "        NSL[leftStack.pop()] = 0\n",
    "    while rightStack:\n",
    "        NSR[rightStack.pop()] = 0\n",
    "\n",
    "    # Calculate maximum absolute difference\n",
    "    maxDiff = 0\n",
    "    for i in range(n):\n",
    "        diff = abs(NSL[i] - NSR[i])\n",
    "        maxDiff = max(maxDiff, diff)\n",
    "\n",
    "    return maxDiff\n"
   ]
  },
  {
   "attachments": {},
   "cell_type": "markdown",
   "metadata": {},
   "source": [
    "### Example"
   ]
  },
  {
   "cell_type": "code",
   "execution_count": 18,
   "metadata": {},
   "outputs": [
    {
     "name": "stdout",
     "output_type": "stream",
     "text": [
      "0\n",
      "4\n",
      "1\n"
     ]
    }
   ],
   "source": [
    "arr = [2, 1, 8]\n",
    "result = maxAbsDiff(arr)\n",
    "print(result)  # Output: 1\n",
    "\n",
    "arr = [2, 4, 8, 7, 7, 9, 3]\n",
    "result = maxAbsDiff(arr)\n",
    "print(result)  # Output: 4\n",
    "\n",
    "arr = [5, 1, 9, 2, 5, 1, 7]\n",
    "result = maxAbsDiff(arr)\n",
    "print(result)  # Output: 1\n"
   ]
  },
  {
   "cell_type": "code",
   "execution_count": null,
   "metadata": {},
   "outputs": [],
   "source": []
  }
 ],
 "metadata": {
  "kernelspec": {
   "display_name": "base",
   "language": "python",
   "name": "python3"
  },
  "language_info": {
   "codemirror_mode": {
    "name": "ipython",
    "version": 3
   },
   "file_extension": ".py",
   "mimetype": "text/x-python",
   "name": "python",
   "nbconvert_exporter": "python",
   "pygments_lexer": "ipython3",
   "version": "3.8.5"
  },
  "orig_nbformat": 4
 },
 "nbformat": 4,
 "nbformat_minor": 2
}
